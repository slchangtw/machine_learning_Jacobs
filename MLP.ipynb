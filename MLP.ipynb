{
 "cells": [
  {
   "cell_type": "code",
   "execution_count": 1,
   "metadata": {},
   "outputs": [],
   "source": [
    "import numpy as np\n",
    "import matplotlib.pyplot as plt\n",
    "\n",
    "%matplotlib inline"
   ]
  },
  {
   "cell_type": "code",
   "execution_count": 2,
   "metadata": {},
   "outputs": [],
   "source": [
    "class Layer(object):\n",
    "    \"\"\"define a layer object\"\"\"\n",
    "    \n",
    "    def __init__(self, n_input, n_output=None, random_seed=42):\n",
    "        \"\"\"Constructer of a layer object\"\"\"\n",
    "        \n",
    "        self.n_input = n_input\n",
    "        self.n_output = n_output\n",
    "        \n",
    "        np.random.seed(random_seed)\n",
    "        self.weights = np.random.uniform(-0.43, 0.43, size=(self.n_input, self.n_output))\n",
    "\n",
    "    def _sigmoid_forward(self, x):\n",
    "        \"\"\"Apply sigmoid function\"\"\"\n",
    "        \n",
    "        return 1 / (1 + np.exp(-x))\n",
    "    \n",
    "    def _tanh_forward(self, x):\n",
    "        \"\"\"Apply tanh function\"\"\"\n",
    "        \n",
    "        return (np.exp(2*x) - 1) / (np.exp(2*x) + 1)\n",
    "    \n",
    "    def forward_prop(self, input_x, activation_func='sigmoid', add_noise=False):\n",
    "        \"\"\"Implement forward propagation\"\"\"\n",
    "        \n",
    "        # add gaussian noises to input\n",
    "        if add_noise:\n",
    "            input_x += np.random.normal(0, 0.045, size=input_x.shape)\n",
    "        \n",
    "        if activation_func == 'sigmoid':\n",
    "            self.out_x = self._sigmoid_forward(input_x.dot(self.weights))\n",
    "        elif activation_func == 'tanh':\n",
    "            self.out_x = self._tanh_forward(input_x.dot(self.weights))\n",
    "\n",
    "    def backward_prop(self, x_pre, delta_next, weights_next, eta, activation_func='sigmoid'):\n",
    "        \"\"\"Implement backward propagation\"\"\"\n",
    "        \n",
    "        if activation_func == 'sigmoid':\n",
    "            self.delta = self.out_x * (1-self.out_x) * delta_next.dot(weights_next.T)\n",
    "        elif activation_func == 'tanh':\n",
    "            self.delta = (1 - np.square(self._tanh_forward(self.out_x))) * delta_next.dot(weights_next.T)\n",
    "       \n",
    "        self.weights -= eta * x_pre.T.dot(self.delta) / x_pre.shape[0]\n",
    "    \n",
    "class Softmax_Layer(Layer):\n",
    "    \"\"\"define a output layer object\"\"\"\n",
    "    \n",
    "    def __init__(self, n_input, n_output=None, random_seed=42):\n",
    "        \"\"\"Constructer of a output layer object\"\"\"\n",
    "            \n",
    "        Layer.__init__(self, n_input, n_output, random_seed)\n",
    "    \n",
    "    def _softmax(self, out_x):\n",
    "        return np.exp(out_x) / np.sum(np.exp(out_x))\n",
    "    \n",
    "    def forward_prop(self, input_x):\n",
    "        \"\"\"Implement forward propagation\"\"\"\n",
    "        \n",
    "        self.out_x = input_x.dot(self.weights)\n",
    "        \n",
    "    def backward_prop(self, y_true, y_preds, x_pre, eta):\n",
    "        \"\"\"Implement backward propagation (output layer)\"\"\"\n",
    "        \n",
    "        self.delta = 2 * (y_preds - y_true)\n",
    "        \n",
    "        self.weights -= eta * x_pre.T.dot(self.delta) / x_pre.shape[0]\n",
    "    \n",
    "    def predict(self):\n",
    "        \"\"\"Predict labels\"\"\"\n",
    "        \n",
    "        self.pred_proba = np.apply_along_axis(self._softmax, 1, self.out_x)\n",
    "        return (self.pred_proba == self.pred_proba.max(axis=1)[:, None]).astype(int)\n",
    "    \n",
    "    def compute_mse(self, y_true):\n",
    "        \"\"\"Compute mean square error\"\"\"\n",
    "        \n",
    "        return np.mean(np.square(self.out_x - y_true))\n",
    "    \n",
    "    def compute_miscla_rate(self, y_true):\n",
    "        \"\"\"Compute misclassification rate\"\"\"\n",
    "        \n",
    "        return 1 - np.sum(np.all(output_layer.predict() == y_true, axis=1)) / y_true.shape[0]"
   ]
  },
  {
   "cell_type": "markdown",
   "metadata": {},
   "source": [
    "## Task 1"
   ]
  },
  {
   "cell_type": "code",
   "execution_count": 31,
   "metadata": {},
   "outputs": [],
   "source": [
    "X = np.array([[1, 0, 0], [1, 1, 0], [1, 0, 1], [1, 1, 1]])\n",
    "y = np.array([[0, 1], [1, 0], [1, 0], [0, 1]])"
   ]
  },
  {
   "cell_type": "code",
   "execution_count": 32,
   "metadata": {},
   "outputs": [],
   "source": [
    "epochs = 12000\n",
    "n_neurons = 2\n",
    "fc_layer = Layer(X.shape[1], n_neurons)\n",
    "output_layer = Softmax_Layer(n_neurons, 2)"
   ]
  },
  {
   "cell_type": "code",
   "execution_count": 33,
   "metadata": {},
   "outputs": [],
   "source": [
    "errors = np.zeros(epochs)\n",
    "for epoch in range(epochs):\n",
    "    fc_layer.forward_prop(X)\n",
    "    output_layer.forward_prop(fc_layer.out_x)\n",
    "    \n",
    "    y_preds = output_layer.predict()\n",
    "    output_layer.backward_prop(y, y_preds, x_pre=fc_layer.out_x, eta=0.035)\n",
    "    fc_layer.backward_prop(x_pre=X, delta_next=output_layer.delta, weights_next=output_layer.weights, eta=0.035)\n",
    "    \n",
    "    errors[epoch] = output_layer.compute_mse(y)"
   ]
  },
  {
   "cell_type": "code",
   "execution_count": 34,
   "metadata": {},
   "outputs": [
    {
     "data": {
      "text/plain": [
       "[<matplotlib.lines.Line2D at 0x10ebb7b00>]"
      ]
     },
     "execution_count": 34,
     "metadata": {},
     "output_type": "execute_result"
    },
    {
     "data": {
      "image/png": "[encoded data removed]",
      "text/plain": [
       "<Figure size 432x288 with 1 Axes>"
      ]
     },
     "metadata": {},
     "output_type": "display_data"
    }
   ],
   "source": [
    "# remains constant after 11273th epoch\n",
    "plt.plot(errors)"
   ]
  },
  {
   "cell_type": "markdown",
   "metadata": {},
   "source": [
    "## Bonus Task"
   ]
  },
  {
   "cell_type": "code",
   "execution_count": 105,
   "metadata": {},
   "outputs": [],
   "source": [
    "# load data\n",
    "X = np.loadtxt('input/mfeat-pix.txt')\n",
    "\n",
    "# normalize data\n",
    "X = (X - np.mean(X, axis=0)) / np.std(X, axis=0)\n",
    "\n",
    "# add bias term\n",
    "X = np.column_stack([np.ones(X.shape[0]), X])"
   ]
  },
  {
   "cell_type": "code",
   "execution_count": 106,
   "metadata": {},
   "outputs": [],
   "source": [
    "# split the dataset into training data and test data\n",
    "train_indices = [range(0 + 200*i, 50 + 200*i) for i in range(10)]\n",
    "cv_indices = [range(50 + 200*i, 100 + 200*i) for i in range(10)]\n",
    "test_indices = [range(100 + 200*i, 200 + 200*i) for i in range(10)]\n",
    "\n",
    "X_train = X[train_indices, ].reshape(500, 241)\n",
    "X_cv = X[cv_indices, ].reshape(500, 241)\n",
    "X_test = X[test_indices, ].reshape(1000, 241)"
   ]
  },
  {
   "cell_type": "code",
   "execution_count": 107,
   "metadata": {},
   "outputs": [],
   "source": [
    "# create class labels for cross-validation\n",
    "nb_classes = 10\n",
    "y_vector = np.array([i for i in range(10) for j in range(50)])\n",
    "y_matrix = np.eye(nb_classes)[y_vector]"
   ]
  },
  {
   "cell_type": "code",
   "execution_count": 108,
   "metadata": {},
   "outputs": [],
   "source": [
    "# initialize the architecture\n",
    "epochs = 2500\n",
    "neurons_1 = 256\n",
    "neurons_2 = 128\n",
    "neurons_3 = 128\n",
    "fc_layer1 = Layer(X.shape[1], neurons_1)\n",
    "fc_layer2 = Layer(neurons_1, neurons_2)\n",
    "fc_layer3 = Layer(neurons_2, neurons_3)\n",
    "output_layer = Softmax_Layer(neurons_3, 10)\n",
    "\n",
    "train_mis = np.zeros(epochs)\n",
    "cv_mis = np.zeros(epochs)"
   ]
  },
  {
   "cell_type": "code",
   "execution_count": 109,
   "metadata": {},
   "outputs": [],
   "source": [
    "for epoch in range(epochs):\n",
    "    \n",
    "    fc_layer1.forward_prop(X_train, activation_func='tanh', add_noise=True)\n",
    "    fc_layer2.forward_prop(fc_layer1.out_x, activation_func='tanh', add_noise=True)\n",
    "    fc_layer3.forward_prop(fc_layer2.out_x, activation_func='tanh', add_noise=True)\n",
    "    output_layer.forward_prop(fc_layer3.out_x)\n",
    "    \n",
    "    train_mis[epoch] = output_layer.compute_miscla_rate(y_matrix)\n",
    "    \n",
    "    output_layer.backward_prop(y_matrix, output_layer.predict(), x_pre=fc_layer3.out_x, eta=0.01)\n",
    "    fc_layer3.backward_prop(x_pre=fc_layer2.out_x, activation_func='tanh', delta_next=output_layer.delta, weights_next=output_layer.weights, eta=0.01)\n",
    "    fc_layer2.backward_prop(x_pre=fc_layer1.out_x, activation_func='tanh', delta_next=fc_layer3.delta, weights_next=fc_layer3.weights, eta=0.01)\n",
    "    fc_layer1.backward_prop(x_pre=X_train, activation_func='tanh', delta_next=fc_layer2.delta, weights_next=fc_layer2.weights, eta=0.01)\n",
    "    \n",
    "    fc_layer1.forward_prop(X_cv, activation_func='tanh')\n",
    "    fc_layer2.forward_prop(fc_layer1.out_x, activation_func='tanh')\n",
    "    fc_layer3.forward_prop(fc_layer2.out_x, activation_func='tanh')\n",
    "    output_layer.forward_prop(fc_layer3.out_x)\n",
    "    \n",
    "    cv_mis[epoch] = output_layer.compute_miscla_rate(y_matrix)"
   ]
  },
  {
   "cell_type": "code",
   "execution_count": 123,
   "metadata": {},
   "outputs": [
    {
     "data": {
      "image/png": "[encoded data removed]",
      "text/plain": [
       "<Figure size 432x288 with 1 Axes>"
      ]
     },
     "metadata": {},
     "output_type": "display_data"
    }
   ],
   "source": [
    "# plot \n",
    "plt.plot(np.log(train_mis))\n",
    "plt.plot(np.log(cv_mis))\n",
    "\n",
    "plt.legend(['Log MISS (training)', 'Log MISS (cv)'], loc='center left', bbox_to_anchor=(1, 0.5))\n",
    "plt.show()"
   ]
  },
  {
   "cell_type": "code",
   "execution_count": 111,
   "metadata": {},
   "outputs": [
    {
     "data": {
      "text/plain": [
       "(0.06599999999999995, 1776)"
      ]
     },
     "execution_count": 111,
     "metadata": {},
     "output_type": "execute_result"
    }
   ],
   "source": [
    "# least misclassification error and its index\n",
    "(np.min(cv_mis), np.argmin(cv_mis))"
   ]
  },
  {
   "cell_type": "code",
   "execution_count": 117,
   "metadata": {},
   "outputs": [],
   "source": [
    "# merge training and cv dataset\n",
    "train_indices = [range(0 + 200*i, 100 + 200*i) for i in range(10)]\n",
    "X_train = X[train_indices, ].reshape(1000, 241)"
   ]
  },
  {
   "cell_type": "code",
   "execution_count": 118,
   "metadata": {},
   "outputs": [],
   "source": [
    "# create class labels for prediction\n",
    "y_vector = np.array([i for i in range(10) for j in range(100)])\n",
    "y_matrix = np.eye(nb_classes)[y_vector]"
   ]
  },
  {
   "cell_type": "code",
   "execution_count": 119,
   "metadata": {},
   "outputs": [],
   "source": [
    "# reinitialize parameters\n",
    "epochs = 1800\n",
    "neurons_1 = 256\n",
    "neurons_2 = 128\n",
    "neurons_3 = 128\n",
    "fc_layer1 = Layer(X.shape[1], neurons_1)\n",
    "fc_layer2 = Layer(neurons_1, neurons_2)\n",
    "fc_layer3 = Layer(neurons_2, neurons_3)\n",
    "output_layer = Softmax_Layer(neurons_3, 10)\n",
    "\n",
    "train_mis = np.zeros(epochs)\n",
    "test_mis = np.zeros(epochs)"
   ]
  },
  {
   "cell_type": "code",
   "execution_count": 120,
   "metadata": {},
   "outputs": [],
   "source": [
    "for epoch in range(epochs):\n",
    "    \n",
    "    fc_layer1.forward_prop(X_train, activation_func='tanh', add_noise=True)\n",
    "    fc_layer2.forward_prop(fc_layer1.out_x, activation_func='tanh', add_noise=True)\n",
    "    fc_layer3.forward_prop(fc_layer2.out_x, activation_func='tanh', add_noise=True)\n",
    "    output_layer.forward_prop(fc_layer3.out_x)\n",
    "    \n",
    "    train_mis[epoch] = output_layer.compute_miscla_rate(y_matrix)\n",
    "    \n",
    "    output_layer.backward_prop(y_matrix, output_layer.predict(), x_pre=fc_layer3.out_x, eta=0.01)\n",
    "    fc_layer3.backward_prop(x_pre=fc_layer2.out_x, activation_func='tanh', delta_next=output_layer.delta, weights_next=output_layer.weights, eta=0.01)\n",
    "    fc_layer2.backward_prop(x_pre=fc_layer1.out_x, activation_func='tanh', delta_next=fc_layer3.delta, weights_next=fc_layer3.weights, eta=0.01)\n",
    "    fc_layer1.backward_prop(x_pre=X_train, activation_func='tanh', delta_next=fc_layer2.delta, weights_next=fc_layer2.weights, eta=0.01)"
   ]
  },
  {
   "cell_type": "code",
   "execution_count": 122,
   "metadata": {},
   "outputs": [
    {
     "name": "stdout",
     "output_type": "stream",
     "text": [
      "The misclassification rate on the test dataset is: 0.05600000000000005\n"
     ]
    }
   ],
   "source": [
    "fc_layer1.forward_prop(X_test, activation_func='tanh')\n",
    "fc_layer2.forward_prop(fc_layer1.out_x, activation_func='tanh')\n",
    "fc_layer3.forward_prop(fc_layer2.out_x, activation_func='tanh')\n",
    "output_layer.forward_prop(fc_layer3.out_x)\n",
    "    \n",
    "test_mis = output_layer.compute_miscla_rate(y_matrix)\n",
    "print(\"The misclassification rate on the test dataset is: {0}\".format(test_mis))"
   ]
  },
  {
   "cell_type": "code",
   "execution_count": null,
   "metadata": {},
   "outputs": [],
   "source": []
  }
 ],
 "metadata": {
  "kernelspec": {
   "display_name": "Python 3",
   "language": "python",
   "name": "python3"
  },
  "language_info": {
   "codemirror_mode": {
    "name": "ipython",
    "version": 3
   },
   "file_extension": ".py",
   "mimetype": "text/x-python",
   "name": "python",
   "nbconvert_exporter": "python",
   "pygments_lexer": "ipython3",
   "version": "3.6.5"
  }
 },
 "nbformat": 4,
 "nbformat_minor": 2
}
